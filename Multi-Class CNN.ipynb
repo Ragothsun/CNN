{
 "cells": [
  {
   "cell_type": "code",
   "execution_count": 1,
   "metadata": {},
   "outputs": [
    {
     "name": "stderr",
     "output_type": "stream",
     "text": [
      "C:\\Users\\Lenovo\\Anaconda3\\envs\\RagothEnv\\lib\\importlib\\_bootstrap.py:219: RuntimeWarning: numpy.ufunc size changed, may indicate binary incompatibility. Expected 192 from C header, got 216 from PyObject\n",
      "  return f(*args, **kwds)\n"
     ]
    }
   ],
   "source": [
    "import pandas as pd\n",
    "import numpy as np\n",
    "import matplotlib.pyplot as plt"
   ]
  },
  {
   "cell_type": "code",
   "execution_count": 4,
   "metadata": {},
   "outputs": [],
   "source": [
    "fashion_train_df = pd.read_csv(r'E:\\Personal\\NicheSoft\\Fashion_MNIST\\fashion-mnist_train.csv',sep=',')\n",
    "fashion_test_df = pd.read_csv(r'E:\\Personal\\NicheSoft\\Fashion_MNIST\\fashion-mnist_test.csv', sep = ',')\n",
    "training = np.array(fashion_train_df, dtype = 'float32')\n",
    "testing = np.array(fashion_test_df, dtype='float32')"
   ]
  },
  {
   "cell_type": "code",
   "execution_count": 7,
   "metadata": {},
   "outputs": [
    {
     "data": {
      "text/plain": [
       "<matplotlib.image.AxesImage at 0x242eb37fac8>"
      ]
     },
     "execution_count": 7,
     "metadata": {},
     "output_type": "execute_result"
    },
    {
     "data": {
      "image/png": "[encoded data removed]",
      "text/plain": [
       "<Figure size 432x288 with 1 Axes>"
      ]
     },
     "metadata": {
      "needs_background": "light"
     },
     "output_type": "display_data"
    }
   ],
   "source": [
    "import random\n",
    "i = random.randint(1,60000) \n",
    "plt.imshow( training[i,1:].reshape((28,28)) ) \n",
    "plt.imshow( training[i,1:].reshape((28,28)) , cmap = 'gray') "
   ]
  },
  {
   "cell_type": "code",
   "execution_count": 8,
   "metadata": {},
   "outputs": [],
   "source": [
    "X_train = training[:,1:]/255\n",
    "y_train = training[:,0]\n",
    "X_test = testing[:,1:]/255\n",
    "y_test = testing[:,0]"
   ]
  },
  {
   "cell_type": "code",
   "execution_count": 10,
   "metadata": {},
   "outputs": [
    {
     "name": "stderr",
     "output_type": "stream",
     "text": [
      "C:\\Users\\Lenovo\\Anaconda3\\envs\\RagothEnv\\lib\\importlib\\_bootstrap.py:219: RuntimeWarning: numpy.ufunc size changed, may indicate binary incompatibility. Expected 192 from C header, got 216 from PyObject\n",
      "  return f(*args, **kwds)\n"
     ]
    }
   ],
   "source": [
    "from sklearn.model_selection import train_test_split\n",
    "X_train, X_validate, y_train, y_validate = train_test_split(X_train, y_train, test_size = 0.2, random_state = 12345)"
   ]
  },
  {
   "cell_type": "code",
   "execution_count": 11,
   "metadata": {},
   "outputs": [],
   "source": [
    "X_train = X_train.reshape((-1, 28, 28, 1))\n",
    "X_test = X_test.reshape(X_test.shape[0], *(28, 28, 1))\n",
    "X_validate = X_validate.reshape(X_validate.shape[0], *(28, 28, 1))"
   ]
  },
  {
   "cell_type": "code",
   "execution_count": 16,
   "metadata": {},
   "outputs": [
    {
     "name": "stderr",
     "output_type": "stream",
     "text": [
      "C:\\Users\\Lenovo\\Anaconda3\\envs\\RagothEnv\\lib\\site-packages\\ipykernel_launcher.py:4: UserWarning: Update your `Conv2D` call to the Keras 2 API: `Conv2D(64, (3, 3), input_shape=(28, 28, 1..., activation=\"relu\")`\n",
      "  after removing the cwd from sys.path.\n"
     ]
    }
   ],
   "source": [
    "from keras.models import Sequential\n",
    "from keras.layers.convolutional import Conv2D\n",
    "classifier = Sequential()\n",
    "classifier.add(Conv2D(64,3, 3, input_shape = (28,28,1), activation='relu'))"
   ]
  },
  {
   "cell_type": "code",
   "execution_count": 19,
   "metadata": {},
   "outputs": [],
   "source": [
    "from keras.layers.convolutional import MaxPooling2D\n",
    "from keras.layers import Dropout\n",
    "classifier.add(MaxPooling2D(pool_size = (2, 2)))\n",
    "classifier.add(Dropout(0.25))"
   ]
  },
  {
   "cell_type": "code",
   "execution_count": 20,
   "metadata": {},
   "outputs": [
    {
     "name": "stderr",
     "output_type": "stream",
     "text": [
      "C:\\Users\\Lenovo\\Anaconda3\\envs\\RagothEnv\\lib\\site-packages\\ipykernel_launcher.py:1: UserWarning: Update your `Conv2D` call to the Keras 2 API: `Conv2D(32, (3, 3), activation=\"relu\")`\n",
      "  \"\"\"Entry point for launching an IPython kernel.\n"
     ]
    }
   ],
   "source": [
    "classifier.add(Conv2D(32,3, 3, activation='relu'))\n",
    "classifier.add(MaxPooling2D(pool_size = (2, 2)))"
   ]
  },
  {
   "cell_type": "code",
   "execution_count": 21,
   "metadata": {},
   "outputs": [
    {
     "name": "stderr",
     "output_type": "stream",
     "text": [
      "C:\\Users\\Lenovo\\Anaconda3\\envs\\RagothEnv\\lib\\site-packages\\ipykernel_launcher.py:3: UserWarning: Update your `Dense` call to the Keras 2 API: `Dense(activation=\"relu\", units=32)`\n",
      "  This is separate from the ipykernel package so we can avoid doing imports until\n",
      "C:\\Users\\Lenovo\\Anaconda3\\envs\\RagothEnv\\lib\\site-packages\\ipykernel_launcher.py:4: UserWarning: Update your `Dense` call to the Keras 2 API: `Dense(activation=\"sigmoid\", units=10)`\n",
      "  after removing the cwd from sys.path.\n"
     ]
    }
   ],
   "source": [
    "from keras.layers import Flatten, Dense\n",
    "classifier.add(Flatten())\n",
    "classifier.add(Dense(output_dim = 32, activation = 'relu'))\n",
    "classifier.add(Dense(output_dim = 10, activation = 'sigmoid'))"
   ]
  },
  {
   "cell_type": "code",
   "execution_count": 29,
   "metadata": {},
   "outputs": [],
   "source": [
    "from keras import optimizers\n",
    "classifier.compile(loss ='sparse_categorical_crossentropy', optimizer=optimizers.Adam(lr=0.001), metrics =['accuracy'])"
   ]
  },
  {
   "cell_type": "code",
   "execution_count": 30,
   "metadata": {},
   "outputs": [
    {
     "name": "stderr",
     "output_type": "stream",
     "text": [
      "C:\\Users\\Lenovo\\Anaconda3\\envs\\RagothEnv\\lib\\site-packages\\ipykernel_launcher.py:2: UserWarning: The `nb_epoch` argument in `fit` has been renamed `epochs`.\n",
      "  \n"
     ]
    },
    {
     "name": "stdout",
     "output_type": "stream",
     "text": [
      "Train on 48000 samples, validate on 12000 samples\n",
      "Epoch 1/50\n",
      "48000/48000 [==============================] - 41s 848us/step - loss: 1.1654 - accuracy: 0.5597 - val_loss: 0.6965 - val_accuracy: 0.7398\n",
      "Epoch 2/50\n",
      "48000/48000 [==============================] - 37s 780us/step - loss: 0.6273 - accuracy: 0.7650 - val_loss: 0.5814 - val_accuracy: 0.7759\n",
      "Epoch 3/50\n",
      "48000/48000 [==============================] - 38s 802us/step - loss: 0.5404 - accuracy: 0.7984 - val_loss: 0.4896 - val_accuracy: 0.8242\n",
      "Epoch 4/50\n",
      "48000/48000 [==============================] - 38s 785us/step - loss: 0.4883 - accuracy: 0.8210 - val_loss: 0.4623 - val_accuracy: 0.8408\n",
      "Epoch 5/50\n",
      "48000/48000 [==============================] - 38s 785us/step - loss: 0.4485 - accuracy: 0.8402 - val_loss: 0.4201 - val_accuracy: 0.8539\n",
      "Epoch 6/50\n",
      "48000/48000 [==============================] - 39s 805us/step - loss: 0.4198 - accuracy: 0.8506 - val_loss: 0.4038 - val_accuracy: 0.8549\n",
      "Epoch 7/50\n",
      "48000/48000 [==============================] - 37s 779us/step - loss: 0.4008 - accuracy: 0.8563 - val_loss: 0.3887 - val_accuracy: 0.8621\n",
      "Epoch 8/50\n",
      "48000/48000 [==============================] - 38s 782us/step - loss: 0.3912 - accuracy: 0.8591 - val_loss: 0.3709 - val_accuracy: 0.8701\n",
      "Epoch 9/50\n",
      "48000/48000 [==============================] - 38s 785us/step - loss: 0.3743 - accuracy: 0.8666 - val_loss: 0.3652 - val_accuracy: 0.8708\n",
      "Epoch 10/50\n",
      "48000/48000 [==============================] - 38s 799us/step - loss: 0.3664 - accuracy: 0.8690 - val_loss: 0.3497 - val_accuracy: 0.8748\n",
      "Epoch 11/50\n",
      "48000/48000 [==============================] - 41s 845us/step - loss: 0.3547 - accuracy: 0.8731 - val_loss: 0.3437 - val_accuracy: 0.8792\n",
      "Epoch 12/50\n",
      "48000/48000 [==============================] - 43s 902us/step - loss: 0.3454 - accuracy: 0.8769 - val_loss: 0.3303 - val_accuracy: 0.8823\n",
      "Epoch 13/50\n",
      "48000/48000 [==============================] - 42s 878us/step - loss: 0.3411 - accuracy: 0.8780 - val_loss: 0.3359 - val_accuracy: 0.8803\n",
      "Epoch 14/50\n",
      "48000/48000 [==============================] - 43s 891us/step - loss: 0.3300 - accuracy: 0.8816 - val_loss: 0.3197 - val_accuracy: 0.8860\n",
      "Epoch 15/50\n",
      "48000/48000 [==============================] - 44s 914us/step - loss: 0.3285 - accuracy: 0.8817 - val_loss: 0.3251 - val_accuracy: 0.8842\n",
      "Epoch 16/50\n",
      "48000/48000 [==============================] - 43s 906us/step - loss: 0.3217 - accuracy: 0.8842 - val_loss: 0.3149 - val_accuracy: 0.8873\n",
      "Epoch 17/50\n",
      "48000/48000 [==============================] - 43s 902us/step - loss: 0.3154 - accuracy: 0.8869 - val_loss: 0.3131 - val_accuracy: 0.8884\n",
      "Epoch 18/50\n",
      "48000/48000 [==============================] - 49s 1ms/step - loss: 0.3158 - accuracy: 0.8852 - val_loss: 0.3107 - val_accuracy: 0.8858\n",
      "Epoch 19/50\n",
      "48000/48000 [==============================] - 56s 1ms/step - loss: 0.3026 - accuracy: 0.8924 - val_loss: 0.3028 - val_accuracy: 0.8934\n",
      "Epoch 20/50\n",
      "48000/48000 [==============================] - 55s 1ms/step - loss: 0.2990 - accuracy: 0.8934 - val_loss: 0.2928 - val_accuracy: 0.8951\n",
      "Epoch 21/50\n",
      "48000/48000 [==============================] - 47s 979us/step - loss: 0.2947 - accuracy: 0.8945 - val_loss: 0.2917 - val_accuracy: 0.8967\n",
      "Epoch 22/50\n",
      "48000/48000 [==============================] - 44s 926us/step - loss: 0.2904 - accuracy: 0.8952 - val_loss: 0.2936 - val_accuracy: 0.8962\n",
      "Epoch 23/50\n",
      "48000/48000 [==============================] - 45s 928us/step - loss: 0.2914 - accuracy: 0.8947 - val_loss: 0.2888 - val_accuracy: 0.8982\n",
      "Epoch 24/50\n",
      "48000/48000 [==============================] - 45s 940us/step - loss: 0.2849 - accuracy: 0.8977 - val_loss: 0.2835 - val_accuracy: 0.8959\n",
      "Epoch 25/50\n",
      "48000/48000 [==============================] - 45s 942us/step - loss: 0.2813 - accuracy: 0.8993 - val_loss: 0.2818 - val_accuracy: 0.8968\n",
      "Epoch 26/50\n",
      "48000/48000 [==============================] - 46s 966us/step - loss: 0.2759 - accuracy: 0.9003 - val_loss: 0.2781 - val_accuracy: 0.9006\n",
      "Epoch 27/50\n",
      "48000/48000 [==============================] - 46s 950us/step - loss: 0.2741 - accuracy: 0.9005 - val_loss: 0.2741 - val_accuracy: 0.9000\n",
      "Epoch 28/50\n",
      "48000/48000 [==============================] - 46s 958us/step - loss: 0.2697 - accuracy: 0.9024 - val_loss: 0.3107 - val_accuracy: 0.8855\n",
      "Epoch 29/50\n",
      "48000/48000 [==============================] - 46s 963us/step - loss: 0.2678 - accuracy: 0.9039 - val_loss: 0.2819 - val_accuracy: 0.8967\n",
      "Epoch 30/50\n",
      "48000/48000 [==============================] - 45s 937us/step - loss: 0.2647 - accuracy: 0.9048 - val_loss: 0.2704 - val_accuracy: 0.9022\n",
      "Epoch 31/50\n",
      "48000/48000 [==============================] - 47s 972us/step - loss: 0.2606 - accuracy: 0.9054 - val_loss: 0.2696 - val_accuracy: 0.9023\n",
      "Epoch 32/50\n",
      "48000/48000 [==============================] - 46s 967us/step - loss: 0.2577 - accuracy: 0.9079 - val_loss: 0.2790 - val_accuracy: 0.8977\n",
      "Epoch 33/50\n",
      "48000/48000 [==============================] - 46s 963us/step - loss: 0.2580 - accuracy: 0.9063 - val_loss: 0.2675 - val_accuracy: 0.9028\n",
      "Epoch 34/50\n",
      "48000/48000 [==============================] - 46s 957us/step - loss: 0.2527 - accuracy: 0.9078 - val_loss: 0.2654 - val_accuracy: 0.9062\n",
      "Epoch 35/50\n",
      "48000/48000 [==============================] - 46s 967us/step - loss: 0.2500 - accuracy: 0.9104 - val_loss: 0.2643 - val_accuracy: 0.9047\n",
      "Epoch 36/50\n",
      "48000/48000 [==============================] - 46s 963us/step - loss: 0.2457 - accuracy: 0.9114 - val_loss: 0.2611 - val_accuracy: 0.9073\n",
      "Epoch 37/50\n",
      "48000/48000 [==============================] - 47s 985us/step - loss: 0.2441 - accuracy: 0.9111 - val_loss: 0.2568 - val_accuracy: 0.9062\n",
      "Epoch 38/50\n",
      "48000/48000 [==============================] - 47s 975us/step - loss: 0.2441 - accuracy: 0.9101 - val_loss: 0.2656 - val_accuracy: 0.9028\n",
      "Epoch 39/50\n",
      "48000/48000 [==============================] - 46s 949us/step - loss: 0.2451 - accuracy: 0.9118 - val_loss: 0.2668 - val_accuracy: 0.9010\n",
      "Epoch 40/50\n",
      "48000/48000 [==============================] - 47s 985us/step - loss: 0.2396 - accuracy: 0.9136 - val_loss: 0.2698 - val_accuracy: 0.9018\n",
      "Epoch 41/50\n",
      "48000/48000 [==============================] - 47s 976us/step - loss: 0.2374 - accuracy: 0.9130 - val_loss: 0.2560 - val_accuracy: 0.9081\n",
      "Epoch 42/50\n",
      "48000/48000 [==============================] - 48s 997us/step - loss: 0.2371 - accuracy: 0.9149 - val_loss: 0.2565 - val_accuracy: 0.9063\n",
      "Epoch 43/50\n",
      "48000/48000 [==============================] - 48s 1ms/step - loss: 0.2315 - accuracy: 0.9168 - val_loss: 0.2657 - val_accuracy: 0.9049\n",
      "Epoch 44/50\n",
      "48000/48000 [==============================] - 48s 1ms/step - loss: 0.2290 - accuracy: 0.9172 - val_loss: 0.2545 - val_accuracy: 0.9081\n",
      "Epoch 45/50\n",
      "48000/48000 [==============================] - 48s 994us/step - loss: 0.2276 - accuracy: 0.9171 - val_loss: 0.2556 - val_accuracy: 0.9095\n",
      "Epoch 46/50\n",
      "48000/48000 [==============================] - 47s 978us/step - loss: 0.2245 - accuracy: 0.9182 - val_loss: 0.2724 - val_accuracy: 0.9027\n",
      "Epoch 47/50\n",
      "48000/48000 [==============================] - 48s 999us/step - loss: 0.2259 - accuracy: 0.9189 - val_loss: 0.2495 - val_accuracy: 0.9126\n",
      "Epoch 48/50\n",
      "48000/48000 [==============================] - 47s 985us/step - loss: 0.2208 - accuracy: 0.9203 - val_loss: 0.2553 - val_accuracy: 0.9066\n",
      "Epoch 49/50\n",
      "48000/48000 [==============================] - 48s 1ms/step - loss: 0.2196 - accuracy: 0.9214 - val_loss: 0.2499 - val_accuracy: 0.9088\n",
      "Epoch 50/50\n",
      "48000/48000 [==============================] - 47s 987us/step - loss: 0.2243 - accuracy: 0.9196 - val_loss: 0.2777 - val_accuracy: 0.9022\n"
     ]
    }
   ],
   "source": [
    "epochs = 50\n",
    "history = classifier.fit(X_train, y_train, batch_size = 512, nb_epoch = epochs, verbose = 1, validation_data = (X_validate, y_validate))"
   ]
  },
  {
   "cell_type": "code",
   "execution_count": 31,
   "metadata": {},
   "outputs": [
    {
     "name": "stdout",
     "output_type": "stream",
     "text": [
      "10000/10000 [==============================] - 2s 225us/step\n"
     ]
    }
   ],
   "source": [
    "evaluation = classifier.evaluate(X_test, y_test)"
   ]
  },
  {
   "cell_type": "code",
   "execution_count": 33,
   "metadata": {},
   "outputs": [
    {
     "name": "stdout",
     "output_type": "stream",
     "text": [
      "test loss, test acc: [0.270729844725132, 0.9057999849319458]\n",
      "Generate predictions for 3 samples\n",
      "predictions shape: (3, 10)\n"
     ]
    }
   ],
   "source": [
    "print(\"test loss, test acc:\", evaluation)\n",
    "\n",
    "# Generate predictions (probabilities -- the output of the last layer)\n",
    "# on new data using `predict`\n",
    "print(\"Generate predictions for 3 samples\")\n",
    "predictions = classifier.predict(X_test[:3])\n",
    "print(\"predictions shape:\", predictions.shape)"
   ]
  },
  {
   "cell_type": "code",
   "execution_count": null,
   "metadata": {},
   "outputs": [],
   "source": []
  }
 ],
 "metadata": {
  "kernelspec": {
   "display_name": "Python 3",
   "language": "python",
   "name": "python3"
  },
  "language_info": {
   "codemirror_mode": {
    "name": "ipython",
    "version": 3
   },
   "file_extension": ".py",
   "mimetype": "text/x-python",
   "name": "python",
   "nbconvert_exporter": "python",
   "pygments_lexer": "ipython3",
   "version": "3.7.7"
  }
 },
 "nbformat": 4,
 "nbformat_minor": 4
}
